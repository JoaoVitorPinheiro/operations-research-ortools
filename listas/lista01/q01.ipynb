{
 "cells": [
  {
   "cell_type": "markdown",
   "source": [
    "# 1 - Problema da dieta"
   ],
   "metadata": {}
  },
  {
   "cell_type": "markdown",
   "source": [
    "-------------------------------------------------\r\n",
    "## inicialização do solver\r\n",
    "-------------------------------------------------"
   ],
   "metadata": {}
  },
  {
   "cell_type": "code",
   "execution_count": 82,
   "source": [
    "from ortools.linear_solver import pywraplp\r\n",
    "import numpy as np"
   ],
   "outputs": [],
   "metadata": {}
  },
  {
   "cell_type": "code",
   "execution_count": 83,
   "source": [
    "#Inicializa um solver\r\n",
    "solver = pywraplp.Solver.CreateSolver('GLOP')"
   ],
   "outputs": [],
   "metadata": {}
  },
  {
   "cell_type": "markdown",
   "source": [
    "-------------------------------------------------\r\n",
    "## variáveis\r\n",
    "-------------------------------------------------"
   ],
   "metadata": {}
  },
  {
   "cell_type": "code",
   "execution_count": 84,
   "source": [
    "x1 = solver.NumVar(0, solver.infinity(), 'x1')  # carne\r\n",
    "x2 = solver.NumVar(0, solver.infinity(), 'x2')  # arroz\r\n",
    "x3 = solver.NumVar(0, solver.infinity(), 'x3')  # feijão \r\n",
    "x4 = solver.NumVar(0, solver.infinity(), 'x4')  # açúcar\r\n",
    "x5 = solver.NumVar(0, solver.infinity(), 'x5')  # alface\r\n",
    "x6 = solver.NumVar(0, solver.infinity(), 'x6')  # laranja \r\n",
    "\r\n",
    "print('Número de variáveis =', solver.NumVariables())"
   ],
   "outputs": [
    {
     "output_type": "stream",
     "name": "stdout",
     "text": [
      "Número de variáveis = 6\n"
     ]
    }
   ],
   "metadata": {}
  },
  {
   "cell_type": "code",
   "execution_count": 85,
   "source": [
    "valores = np.array([[225, 364, 337, 385, 15, 42, 3200],\r\n",
    "                    [7, 0, 2, 0, 87, 13, 750],\r\n",
    "                    [0, 0, 3, 0, 12, 59, 70],\r\n",
    "                    [2.9, 1.3, 7.6, 0.1, 1.3, 0.7, 10],\r\n",
    "                    [11, 9, 86, 0, 43, 34, 650],\r\n",
    "                    [0.5, 0.18, 0.20, 0.16, 0.30, 0.10, 0]])"
   ],
   "outputs": [],
   "metadata": {}
  },
  {
   "cell_type": "markdown",
   "source": [
    "-------------------------------------------------\r\n",
    "## restrições\r\n",
    "-------------------------------------------------"
   ],
   "metadata": {}
  },
  {
   "cell_type": "code",
   "execution_count": 88,
   "source": [
    "# 1) Valor energético: \r\n",
    "\r\n",
    "# 224*x1 + 364*x2 + 337*x3 + 385*x4 + 15*x5 + 42*x6 >= 3200 \r\n",
    "solver.Add(valores[0][0] * x1 + valores[0][1] * x2 + valores[0][2] * x3 + valores[0][3] * x4 + valores[0][4] * x5 + valores[0][5] * x6 >= valores[0][6])\r\n",
    "\r\n",
    "# 2) Vitamina A: \r\n",
    "\r\n",
    "# 7*x1 + 2*x3 + 87*x5 + 13*x6 >= 750 \r\n",
    "solver.Add(valores[1][0] * x1 + valores[1][2] * x3  + valores[1][4] * x5 + valores[1][5] * x6 >= valores[1][6])\r\n",
    "\r\n",
    "# 3) Vitamina C:\r\n",
    "\r\n",
    "# 0*x1 + 3*x3 + 12*x5 + 59*x6 >= 70\r\n",
    "solver.Add(valores[2][2] * x3  + valores[2][4] * x5 + valores[2][5] * x6 >= valores[2][6])\r\n",
    "\r\n",
    "# 4) Ferro: \r\n",
    "\r\n",
    "# 2,9*x1 + 1,3*x2 + 7,6*x3 + 0,1*x4 + 1,3*x5 + 0,7*x6 >= 10 \r\n",
    "solver.Add(valores[3][0] * x1 + valores[3][1] * x2 + valores[3][2] * x3 + valores[3][3] * x4 + valores[3][4] * x5 + valores[3][5] * x6 >= valores[3][6])\r\n",
    "\r\n",
    "# 5) Cálcio:\r\n",
    "\r\n",
    "# 11*x1 + 9*x2 + 86*x3 + 43*x5 + 34*x6 >= 650 \r\n",
    "solver.Add(valores[4][0] * x1 + valores[4][1] * x2 + valores[4][2] * x3 + valores[4][4] * x5 + valores[4][5] * x6 >= valores[4][6])\r\n",
    "\r\n",
    "# 6) non-negative restrictions  \r\n",
    "\r\n",
    "solver.Add(x1 >= 0)\r\n",
    "solver.Add(x2 >= 0)\r\n",
    "solver.Add(x3 >= 0)\r\n",
    "solver.Add(x4 >= 0)\r\n",
    "solver.Add(x5 >= 0)\r\n",
    "solver.Add(x6 >= 0)\r\n",
    "\r\n",
    "print('Número de restrições =', solver.NumConstraints())"
   ],
   "outputs": [
    {
     "output_type": "stream",
     "name": "stdout",
     "text": [
      "Número de restrições = 11\n"
     ]
    }
   ],
   "metadata": {}
  },
  {
   "cell_type": "markdown",
   "source": [
    "-------------------------------------------------\r\n",
    "## objetivo\r\n",
    "-------------------------------------------------"
   ],
   "metadata": {}
  },
  {
   "cell_type": "code",
   "execution_count": 89,
   "source": [
    "# Função Objetivo\r\n",
    "solver.Minimize(valores[5][0] * x1 + valores[5][1] * x2 + valores[5][2] * x3 + valores[5][3] * x4 + valores[5][4] * x5 + valores[5][5] * x6)"
   ],
   "outputs": [],
   "metadata": {}
  },
  {
   "cell_type": "markdown",
   "source": [
    "-------------------------------------------------\r\n",
    "## solução\r\n",
    "-------------------------------------------------"
   ],
   "metadata": {}
  },
  {
   "cell_type": "code",
   "execution_count": 90,
   "source": [
    "status = solver.Solve()"
   ],
   "outputs": [],
   "metadata": {}
  },
  {
   "cell_type": "code",
   "execution_count": 91,
   "source": [
    "if status == pywraplp.Solver.OPTIMAL:\r\n",
    "    print('solução:')\r\n",
    "    print('custo (objetivo) =', round(solver.Objective().Value(),2))\r\n",
    "    print('carne (x1) =', round(x1.solution_value(), 2))\r\n",
    "    print('arroz (x2) =', round(x2.solution_value(), 2))\r\n",
    "    print('feijão (x3) =', round(x3.solution_value(), 2))\r\n",
    "    print('açúcar (x4) =', round(x4.solution_value(), 2))\r\n",
    "    print('alface (x5) =', round(x5.solution_value(), 2))\r\n",
    "    print('laranja (x6) =', round(x6.solution_value(), 2))\r\n",
    "else:\r\n",
    "    print('O problema não possui uma solução otimizada.')\r\n",
    "\r\n",
    "print('\\ntempo:')\r\n",
    "print('resolvido em %f ms' % solver.wall_time())\r\n",
    "print('resolvido em %d iterações' % solver.iterations())"
   ],
   "outputs": [
    {
     "output_type": "stream",
     "name": "stdout",
     "text": [
      "solução:\n",
      "custo (objetivo) = 4.04\n",
      "carne (x1) = 0.0\n",
      "arroz (x2) = 0.0\n",
      "feijão (x3) = 3.29\n",
      "açúcar (x4) = 5.1\n",
      "alface (x5) = 8.55\n",
      "laranja (x6) = 0.0\n",
      "\n",
      "tempo:\n",
      "resolvido em 361.000000 ms\n",
      "resolvido em 5 iterações\n"
     ]
    }
   ],
   "metadata": {}
  }
 ],
 "metadata": {
  "orig_nbformat": 4,
  "language_info": {
   "name": "python",
   "version": "3.9.4",
   "mimetype": "text/x-python",
   "codemirror_mode": {
    "name": "ipython",
    "version": 3
   },
   "pygments_lexer": "ipython3",
   "nbconvert_exporter": "python",
   "file_extension": ".py"
  },
  "kernelspec": {
   "name": "python3",
   "display_name": "Python 3.9.4 64-bit"
  },
  "interpreter": {
   "hash": "4dfcb1bf95215b407f918b4573c6dc994268ab8a8b33e3df0cf99ac7f2ce48b3"
  }
 },
 "nbformat": 4,
 "nbformat_minor": 2
}