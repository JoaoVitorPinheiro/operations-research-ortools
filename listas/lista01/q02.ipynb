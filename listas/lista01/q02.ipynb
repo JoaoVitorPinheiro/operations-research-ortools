{
 "cells": [
  {
   "cell_type": "markdown",
   "source": [
    "# 2 - Problema do Mix de Produção"
   ],
   "metadata": {}
  },
  {
   "cell_type": "markdown",
   "source": [
    "### A  brinquedos  S.A.  fabrica  dois  tipos  de  brinquedos  de  madeira:  soldados  e  trens.  Umsoldado  é vendido por R$ 27 e usa R$ 10 de matéria-prima. Cada soldado fabricado aumenta custos diretos de mão de obra e custos indiretos em R$ 14. Um trem é vendido a R$ 21 e utiliza R$ 9 de matéria-prima. Cada trem aumenta custos de mão-de-obra e  indiretos em R$10. A fabricação requer dois tipos de mão de obra: carpinteiro e pintor. A fabricação de um soldado requer 2 horas de um pintor e 1 hora de um carpinteiro. Um trem demanda 1 hora de pintura e 1 hora de carpintaria. Para cada semana, a Brinquedos pode conseguir toda a matéria-prima necessária, mas apenas 100 horas de pintura e 80 horas de carpintaria. A demanda para os trens é ilimitada, mas a de soldados é de, no máximo, 40 por semana.A Brinquedos quer maximizar o lucro semanal (Receitas menos custos). O modelo a ser formulado deve  atender  às  restrições  do  problema  ao  mesmo  tempo  que  maximiza  o  lucro  da  empresa.  As variáveis de decisão ( o que precisamos decidir) são as quantidades produzidas de soldados e trens"
   ],
   "metadata": {}
  },
  {
   "cell_type": "markdown",
   "source": [
    "-------------------------------------------------\r\n",
    "## inicialização do solver\r\n",
    "-------------------------------------------------"
   ],
   "metadata": {}
  },
  {
   "cell_type": "code",
   "execution_count": 62,
   "source": [
    "from ortools.linear_solver import pywraplp\r\n",
    "import numpy as np"
   ],
   "outputs": [],
   "metadata": {}
  },
  {
   "cell_type": "code",
   "execution_count": 63,
   "source": [
    "#Inicializa um solver\r\n",
    "solver = pywraplp.Solver.CreateSolver('SCIP')"
   ],
   "outputs": [],
   "metadata": {}
  },
  {
   "cell_type": "markdown",
   "source": [
    "-------------------------------------------------\r\n",
    "## variáveis\r\n",
    "-------------------------------------------------"
   ],
   "metadata": {}
  },
  {
   "cell_type": "code",
   "execution_count": 64,
   "source": [
    "x1 = solver.IntVar(0, solver.infinity(), 'x1')  #  qtd de soldados\r\n",
    "x2 = solver.IntVar(0, solver.infinity(), 'x2')  #  qtd de trens\r\n",
    "\r\n",
    "print('número de variáveis =', solver.NumVariables())"
   ],
   "outputs": [
    {
     "output_type": "stream",
     "name": "stdout",
     "text": [
      "número de variáveis = 2\n"
     ]
    }
   ],
   "metadata": {}
  },
  {
   "cell_type": "markdown",
   "source": [
    "-------------------------------------------------\r\n",
    "## restrições\r\n",
    "-------------------------------------------------"
   ],
   "metadata": {}
  },
  {
   "cell_type": "code",
   "execution_count": 65,
   "source": [
    "# 1) soldados upper limit  \r\n",
    "solver.Add(x1 <= 40)\r\n",
    "\r\n",
    "# 2) painter time limit \r\n",
    "solver.Add(x1*2 + x2*1 <= 100)\r\n",
    "\r\n",
    "# 3) carpenter time limit  \r\n",
    "solver.Add(x1*1 + x2*1 <= 80)\r\n",
    "\r\n",
    "# 4) non-negative restrictions  \r\n",
    "solver.Add(x1 >= 0)\r\n",
    "solver.Add(x2 >= 0)\r\n",
    "\r\n",
    "print('Número de restrições =', solver.NumConstraints())"
   ],
   "outputs": [
    {
     "output_type": "stream",
     "name": "stdout",
     "text": [
      "Número de restrições = 5\n"
     ]
    }
   ],
   "metadata": {}
  },
  {
   "cell_type": "markdown",
   "source": [
    "-------------------------------------------------\r\n",
    "## objetivo\r\n",
    "-------------------------------------------------"
   ],
   "metadata": {}
  },
  {
   "cell_type": "code",
   "execution_count": 66,
   "source": [
    "# Função Objetivo\r\n",
    "\r\n",
    "solver.Maximize(3*x1 + 2*x2)"
   ],
   "outputs": [],
   "metadata": {}
  },
  {
   "cell_type": "markdown",
   "source": [
    "-------------------------------------------------\r\n",
    "## solução\r\n",
    "-------------------------------------------------"
   ],
   "metadata": {}
  },
  {
   "cell_type": "code",
   "execution_count": 69,
   "source": [
    "status = solver.Solve()\r\n",
    "\r\n",
    "if status == pywraplp.Solver.OPTIMAL:\r\n",
    "    print('solução:')\r\n",
    "    print('lucro (objetivo) = {}'.format(round(solver.Objective().Value())))\r\n",
    "    print('quantidade de soldados (x1) = {}'.format(round(x1.solution_value())))\r\n",
    "    print('quantidade de trens (x2) = {}'.format(round(x2.solution_value())))\r\n",
    "\r\n",
    "else:\r\n",
    "    print('O problema não possui uma solução otimizada.')\r\n",
    "\r\n",
    "print('\\ntempo:')\r\n",
    "print('resolvido em %f ms' % solver.wall_time())\r\n",
    "print('resolvido em %d iterações' % solver.iterations())"
   ],
   "outputs": [
    {
     "output_type": "stream",
     "name": "stdout",
     "text": [
      "solução:\n",
      "lucro (objetivo) = 180\n",
      "quantidade de soldados (x1) = 20\n",
      "quantidade de trens (x2) = 60\n",
      "\n",
      "tempo:\n",
      "resolvido em 37112.000000 ms\n",
      "resolvido em 2 iterações\n"
     ]
    }
   ],
   "metadata": {}
  }
 ],
 "metadata": {
  "orig_nbformat": 4,
  "language_info": {
   "name": "python",
   "version": "3.9.4",
   "mimetype": "text/x-python",
   "codemirror_mode": {
    "name": "ipython",
    "version": 3
   },
   "pygments_lexer": "ipython3",
   "nbconvert_exporter": "python",
   "file_extension": ".py"
  },
  "kernelspec": {
   "name": "python3",
   "display_name": "Python 3.9.4 64-bit"
  },
  "interpreter": {
   "hash": "4dfcb1bf95215b407f918b4573c6dc994268ab8a8b33e3df0cf99ac7f2ce48b3"
  }
 },
 "nbformat": 4,
 "nbformat_minor": 2
}