{
 "cells": [
  {
   "cell_type": "code",
   "execution_count": 1,
   "source": [
    "from ortools.linear_solver import pywraplp\r\n",
    "\r\n",
    "#Inicializa um solver\r\n",
    "solver = pywraplp.Solver.CreateSolver('GLOP')"
   ],
   "outputs": [],
   "metadata": {}
  },
  {
   "cell_type": "code",
   "execution_count": 2,
   "source": [
    "x = solver.NumVar(0, solver.infinity(), 'x1')\r\n",
    "y = solver.NumVar(0, solver.infinity(), 'x2')\r\n",
    "\r\n",
    "print('Número de variáveis =', solver.NumVariables())"
   ],
   "outputs": [
    {
     "output_type": "stream",
     "name": "stdout",
     "text": [
      "Número de variáveis = 3\n"
     ]
    }
   ],
   "metadata": {}
  },
  {
   "cell_type": "code",
   "execution_count": 3,
   "source": [
    "# Restrições\r\n",
    "#1: \r\n",
    "solver.Add(1 * x + 3 * y + 2 * z <= 10)\r\n",
    "\r\n",
    "#2: \r\n",
    "solver.Add(1 * x + 5 * y + 1 * z <= 8)\r\n",
    "\r\n",
    "#3: Restrição de não-negatividade\r\n",
    "solver.Add(x >= 0)\r\n",
    "solver.Add(y >= 0)\r\n",
    "solver.Add(z >= 0)\r\n",
    "\r\n",
    "print('Número de restrições =', solver.NumConstraints())"
   ],
   "outputs": [
    {
     "output_type": "stream",
     "name": "stdout",
     "text": [
      "Número de restrições = 5\n"
     ]
    }
   ],
   "metadata": {}
  },
  {
   "cell_type": "code",
   "execution_count": 4,
   "source": [
    "# Função Objetivo\r\n",
    "solver.Maximize(8 * x + 10 * y + 7 * z)"
   ],
   "outputs": [],
   "metadata": {}
  },
  {
   "cell_type": "code",
   "execution_count": 5,
   "source": [
    "status = solver.Solve()"
   ],
   "outputs": [],
   "metadata": {}
  },
  {
   "cell_type": "code",
   "execution_count": 6,
   "source": [
    "if status == pywraplp.Solver.OPTIMAL:\r\n",
    "    print('Solução:')\r\n",
    "    print('Valor Objetivo =', solver.Objective().Value())\r\n",
    "    print('x =', x.solution_value())\r\n",
    "    print('y =', y.solution_value())\r\n",
    "else:\r\n",
    "    print('O problema não possui uma solução otimizada.')\r\n",
    "\r\n",
    "print('\\nTIME:')\r\n",
    "print('Resolvido em %f ms' % solver.wall_time())\r\n",
    "print('Resolvido em %d iterações' % solver.iterations())"
   ],
   "outputs": [
    {
     "output_type": "stream",
     "name": "stdout",
     "text": [
      "Solução:\n",
      "Valor Objetivo = 63.999999999999986\n",
      "x = 7.999999999999998\n",
      "y = 0.0\n",
      "\n",
      "TIME:\n",
      "Resolvido em 517.000000 ms\n",
      "Resolvido em 1 iterações\n"
     ]
    }
   ],
   "metadata": {}
  }
 ],
 "metadata": {
  "orig_nbformat": 4,
  "language_info": {
   "name": "python",
   "version": "3.9.4",
   "mimetype": "text/x-python",
   "codemirror_mode": {
    "name": "ipython",
    "version": 3
   },
   "pygments_lexer": "ipython3",
   "nbconvert_exporter": "python",
   "file_extension": ".py"
  },
  "kernelspec": {
   "name": "python3",
   "display_name": "Python 3.9.4 64-bit"
  },
  "interpreter": {
   "hash": "4dfcb1bf95215b407f918b4573c6dc994268ab8a8b33e3df0cf99ac7f2ce48b3"
  }
 },
 "nbformat": 4,
 "nbformat_minor": 2
}